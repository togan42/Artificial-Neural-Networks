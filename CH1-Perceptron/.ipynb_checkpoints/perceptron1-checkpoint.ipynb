{
 "cells": [
  {
   "cell_type": "code",
   "execution_count": 1,
   "metadata": {},
   "outputs": [],
   "source": [
    "import pandas as pd \n",
    "import numpy as np \n",
    "import matplotlib.pyplot as plt"
   ]
  },
  {
   "cell_type": "markdown",
   "metadata": {},
   "source": [
    "## A linear separable dataset is created:"
   ]
  },
  {
   "cell_type": "code",
   "execution_count": 2,
   "metadata": {},
   "outputs": [],
   "source": [
    "data = np.random.uniform(low=-10 , high=0 , size=(40,6))\n",
    "\n",
    "# To make separable we add values to different dimensions\n",
    "for i in range(20):\n",
    "    data[i][0]= data[i][0]+[5]\n",
    "    data[i][1]= data[i][1]+[3]\n",
    "    data[i][2]= data[i][2]+[2]\n",
    "    data[i][3]= data[i][3]+[3]\n",
    "    data[i][4]= data[i][4]+[4]\n",
    "    #data[i][2] = float(np.random.randint(-10,0))\n",
    "    \n",
    "for i in range(40):\n",
    "    data[i][5]=1 \n"
   ]
  },
  {
   "cell_type": "code",
   "execution_count": 3,
   "metadata": {},
   "outputs": [],
   "source": [
    "# Trainig set : \n",
    "X=np.append(data[:13],data[-12:]).reshape(25,6)\n",
    "\n",
    "#Test set:\n",
    "X_test = data[13:28]"
   ]
  },
  {
   "cell_type": "code",
   "execution_count": 4,
   "metadata": {},
   "outputs": [],
   "source": [
    "# Labels:\n",
    "y1 = np.ones(20)\n",
    "y2 = np.ones(20)*(-1)\n",
    "sonuc = np.append(y1,y2)\n",
    "y_d = np.append(sonuc[:13],sonuc[-12:])\n",
    "y_d_test = sonuc [13:28]"
   ]
  },
  {
   "cell_type": "markdown",
   "metadata": {},
   "source": [
    "## Perceptron function and training:"
   ]
  },
  {
   "cell_type": "code",
   "execution_count": 5,
   "metadata": {},
   "outputs": [],
   "source": [
    "\n",
    "class Perceptron(object):\n",
    "    def __init__ (self, size, c, iteration ):\n",
    "        # first weight : W\n",
    "        self.W=np.random.rand(size)\n",
    "        self.c = c\n",
    "        self.iteration = iteration\n",
    "    # Aktivasyon fonksiyonu : act()\n",
    "    def act (self,v):\n",
    "        return 1 if v >= 0 else -1\n",
    "\n",
    "    # the loop where learning happens\n",
    "    def train (self,X,y_d):\n",
    "        print(\"First weight : \" + str(self.W))\n",
    "        for a in range(self.iteration):\n",
    "            count = 0\n",
    "            for i in range(np.shape(X)[0]):\n",
    "                v = np.dot(self.W,X[i])\n",
    "                y = self.act(v)\n",
    "                self.W = self.W + self.c * (y_d[i]-y) * X[i] \n",
    "                #print(self.W)\n",
    "                if(y_d[i]==y):\n",
    "                    count = count+1\n",
    "            if(count==25):\n",
    "                print(\"Final weight : \" + str(self.W))\n",
    "                break\n",
    "        print(\"Number of iterations :\" + str(a))"
   ]
  },
  {
   "cell_type": "code",
   "execution_count": 6,
   "metadata": {},
   "outputs": [
    {
     "name": "stdout",
     "output_type": "stream",
     "text": [
      "First weight : [0.09552946 0.55415277 0.88171036 0.12714052 0.43356419 0.36461128]\n",
      "Final weight : [ 1.41337199  2.97741173 -0.52306323  3.2011573   1.52467384 23.36461128]\n",
      "Number of iterations :93\n"
     ]
    }
   ],
   "source": [
    "# n : dimension\n",
    "n = np.shape(X)[1]\n",
    "# c: learning rate\n",
    "learning_rate = 0.1\n",
    "perceptron = Perceptron(size=n, c=learning_rate, iteration=1000)\n",
    "perceptron.train(X=X,y_d=y_d)\n",
    "#perceptron.W"
   ]
  },
  {
   "cell_type": "code",
   "execution_count": 7,
   "metadata": {},
   "outputs": [
    {
     "name": "stdout",
     "output_type": "stream",
     "text": [
      "Test results: \n",
      "\n",
      "Phi(1) result :6.713105244881547 =>  expected y's = 1.0\n",
      "Phi(2) result :5.806941935110697 =>  expected y's = 1.0\n",
      "Phi(3) result :8.233875284459362 =>  expected y's = 1.0\n",
      "Phi(4) result :-14.905899423489611 =>  expected y's = 1.0\n",
      "Phi(5) result :5.491302081215208 =>  expected y's = 1.0\n",
      "Phi(6) result :-13.688941949876467 =>  expected y's = 1.0\n",
      "Phi(7) result :-19.396072618814898 =>  expected y's = 1.0\n",
      "Phi(8) result :-11.03764125645947 =>  expected y's = -1.0\n",
      "Phi(9) result :-21.013716522214146 =>  expected y's = -1.0\n",
      "Phi(10) result :-6.738138814629119 =>  expected y's = -1.0\n",
      "Phi(11) result :-28.722549792071035 =>  expected y's = -1.0\n",
      "Phi(12) result :-31.203912912039925 =>  expected y's = -1.0\n",
      "Phi(13) result :-7.271384479626706 =>  expected y's = -1.0\n",
      "Phi(14) result :-18.74499306361397 =>  expected y's = -1.0\n",
      "Phi(15) result :4.065775348704808 =>  expected y's = -1.0\n",
      "\n",
      "Accuracy: 0.7333333333333333\n"
     ]
    }
   ],
   "source": [
    "# Test result:\n",
    "def test():\n",
    "    print(\"Test results: \\n\")\n",
    "    for count in range(15):\n",
    "        print(\"Phi(\" + str(count+1) + \") result :\" + str(np.dot(X_test[count],perceptron.W)) + \" =>  expected y's = \"\n",
    "              + str(y_d_test[count]) )\n",
    "        \n",
    "    print(\"\\nAccuracy:\" ,np.sum(np.sign(np.dot(X_test,perceptron.W))  == y_d_test) / 15)\n",
    "test()"
   ]
  },
  {
   "cell_type": "code",
   "execution_count": null,
   "metadata": {},
   "outputs": [],
   "source": []
  }
 ],
 "metadata": {
  "kernelspec": {
   "display_name": "Python 3",
   "language": "python",
   "name": "python3"
  },
  "language_info": {
   "codemirror_mode": {
    "name": "ipython",
    "version": 3
   },
   "file_extension": ".py",
   "mimetype": "text/x-python",
   "name": "python",
   "nbconvert_exporter": "python",
   "pygments_lexer": "ipython3",
   "version": "3.9.12"
  }
 },
 "nbformat": 4,
 "nbformat_minor": 2
}
