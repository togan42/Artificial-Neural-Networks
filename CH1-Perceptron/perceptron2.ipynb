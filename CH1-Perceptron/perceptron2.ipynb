{
 "cells": [
  {
   "cell_type": "code",
   "execution_count": 1,
   "metadata": {},
   "outputs": [],
   "source": [
    "import pandas as pd \n",
    "import numpy as np \n",
    "import matplotlib.pyplot as plt"
   ]
  },
  {
   "cell_type": "markdown",
   "metadata": {},
   "source": [
    "# Separating linearly unseparable data:"
   ]
  },
  {
   "cell_type": "code",
   "execution_count": 2,
   "metadata": {},
   "outputs": [],
   "source": [
    "data=[[0,-1,1], [0,0,1], [0,1,1], [1,-1,1], [1,0,1], [1,1,1], [-1,-1,1], [-1,0,1], [-1,1,1],  \n",
    "    [-3,3,1], [-3,1,1], [-3,0,1], [-3,-1,1], [-3,-3,1], [-1,3,1], [-1,-3,1], \n",
    "    [0,3,1], [0,-3,1], [1,3,1], [1,-3,1], [3,3,1], [3,1,1], [3,0,1], [3,-1,1],  \n",
    "    [3,-3,1], [-2,3,1], [-3,2,1], [-3,-2,1], [-2,-3,1], [2,3,1], [3,2,1], [3,-2,1], [2,-3,1]\n",
    "]"
   ]
  },
  {
   "cell_type": "code",
   "execution_count": 3,
   "metadata": {},
   "outputs": [
    {
     "data": {
      "text/plain": [
       "-1.5707963267948966"
      ]
     },
     "execution_count": 3,
     "metadata": {},
     "output_type": "execute_result"
    }
   ],
   "source": [
    "polar = np.ones((33,3))\n",
    "def cartopolar(x,y):\n",
    "    r = np.sqrt(x**2 + y**2)\n",
    "    phi = np.arctan2(y , x)\n",
    "    a = np.array([r,phi])\n",
    "    return a\n",
    "cartopolar(data[0][0],data[0][1])[1]"
   ]
  },
  {
   "cell_type": "code",
   "execution_count": 4,
   "metadata": {},
   "outputs": [],
   "source": [
    "for i in range(33):\n",
    "    for j in range(2):\n",
    "        polar[i][j] = cartopolar(data[i][0],data[i][1])[j]\n",
    "        #print(polar[i])\n",
    "X_polar=np.transpose(polar)"
   ]
  },
  {
   "cell_type": "code",
   "execution_count": 14,
   "metadata": {},
   "outputs": [
    {
     "data": {
      "text/plain": [
       "(3, 33)"
      ]
     },
     "execution_count": 14,
     "metadata": {},
     "output_type": "execute_result"
    }
   ],
   "source": [
    "X = np.transpose(data)\n",
    "np.shape(X)"
   ]
  },
  {
   "cell_type": "code",
   "execution_count": 6,
   "metadata": {},
   "outputs": [],
   "source": [
    "eksibirler = -1*np.ones(9)\n",
    "y_d = np.append(eksibirler,np.ones(24))\n"
   ]
  },
  {
   "cell_type": "code",
   "execution_count": 7,
   "metadata": {},
   "outputs": [
    {
     "data": {
      "image/png": "[encoded data removed]",
      "text/plain": [
       "<Figure size 432x288 with 1 Axes>"
      ]
     },
     "metadata": {
      "needs_background": "light"
     },
     "output_type": "display_data"
    }
   ],
   "source": [
    "plt.ylim(-6,6)\n",
    "plt.xlim(-6,6)\n",
    "plt.scatter(X[0][:np.size(eksibirler)],X[1][:np.size(eksibirler)], color=\"red\", label=\"-1' ler\", marker =\"^\")\n",
    "plt.scatter(X[0][np.size(eksibirler):],X[1][np.size(eksibirler):], color=\"green\", label=\"1' ler\", marker =\"o\")\n",
    "plt.legend(loc=1)\n",
    "plt.xlabel(\"x\")\n",
    "plt.ylabel(\"y\")\n",
    "plt.title(\"Kartezyen Koordinat\")\n",
    "plt.show()"
   ]
  },
  {
   "cell_type": "code",
   "execution_count": 8,
   "metadata": {},
   "outputs": [
    {
     "data": {
      "image/png": "[encoded data removed]",
      "text/plain": [
       "<Figure size 432x288 with 1 Axes>"
      ]
     },
     "metadata": {
      "needs_background": "light"
     },
     "output_type": "display_data"
    }
   ],
   "source": [
    "plt.ylim(-6,6)\n",
    "plt.xlim(-2,6)\n",
    "plt.scatter(X_polar[0][:np.size(eksibirler)],X_polar[1][:np.size(eksibirler)], color=\"red\", label=\"-1' ler\", marker =\"^\")\n",
    "plt.scatter(X_polar[0][np.size(eksibirler):],X_polar[1][np.size(eksibirler):], color=\"green\", label=\"1' ler\", marker =\"o\")\n",
    "plt.legend(loc=1)\n",
    "plt.xlabel(\"r\")\n",
    "plt.ylabel(\"phi\")\n",
    "plt.title(\"Polar Koordinat\")\n",
    "plt.show()"
   ]
  },
  {
   "cell_type": "code",
   "execution_count": 9,
   "metadata": {},
   "outputs": [],
   "source": [
    "# Genlikte ayrık algılayıcı için bir class oluşturuldu  \n",
    "# ve gerekli fonksiyonlar eklendi.\n",
    "class Perceptron(object):\n",
    "    def __init__ (self, size, c, iteration ):\n",
    "        # İlk ağırlık : W\n",
    "        self.W=np.zeros(size)\n",
    "        self.c = c\n",
    "\n",
    "    # Aktivasyon fonksiyonu : act()\n",
    "    def act (self,v):\n",
    "        return 1 if v >= 0 else -1\n",
    "\n",
    "    # Öğrenmenin gerçekleştiği döngü , üst limit 500 \n",
    "    def train (self,X,y_d):\n",
    "        for _ in range(250):\n",
    "            for i in range(np.shape(X)[0]):\n",
    "                v = np.dot(self.W,X[i])\n",
    "                y = self.act(v)\n",
    "                self.W = self.W + self.c * (y_d[i]-y) * X[i] \n"
   ]
  },
  {
   "cell_type": "code",
   "execution_count": 10,
   "metadata": {},
   "outputs": [],
   "source": [
    "n = np.shape(data)[1]\n",
    "c=0.1\n",
    "perceptron = Perceptron(size=n, c=c, iteration=10)\n",
    "perceptron.train(X=polar,y_d=y_d)\n"
   ]
  },
  {
   "cell_type": "code",
   "execution_count": 11,
   "metadata": {},
   "outputs": [
    {
     "data": {
      "text/plain": [
       "array([ 0.72951181,  0.06435011, -1.4       ])"
      ]
     },
     "execution_count": 11,
     "metadata": {},
     "output_type": "execute_result"
    }
   ],
   "source": [
    "perceptron.W"
   ]
  },
  {
   "cell_type": "code",
   "execution_count": 12,
   "metadata": {},
   "outputs": [
    {
     "data": {
      "text/plain": [
       "-1.4"
      ]
     },
     "execution_count": 12,
     "metadata": {},
     "output_type": "execute_result"
    }
   ],
   "source": [
    "# POLAR KOORDİNATTA YAZ\n",
    "r_cor = perceptron.W[0]\n",
    "phi_cor = perceptron.W[1]\n",
    "const_cor = perceptron.W[2]\n",
    "const_cor"
   ]
  },
  {
   "cell_type": "code",
   "execution_count": 13,
   "metadata": {},
   "outputs": [
    {
     "data": {
      "image/png": "[encoded data removed]",
      "text/plain": [
       "<Figure size 432x288 with 1 Axes>"
      ]
     },
     "metadata": {
      "needs_background": "light"
     },
     "output_type": "display_data"
    }
   ],
   "source": [
    "\n",
    "t = np.arange(0.0,4.0,0.01)\n",
    "s = ((-1 * r_cor * t) - (const_cor))/ phi_cor\n",
    "plt.ylim(-6,10)\n",
    "plt.xlim(-6,10)\n",
    "plt.plot(t,s)\n",
    "plt.scatter(X_polar[0][:np.size(eksibirler)],X_polar[1][:np.size(eksibirler)], color=\"red\", label=\"-1' ler\", marker =\"^\")\n",
    "plt.scatter(X_polar[0][np.size(eksibirler):],X_polar[1][np.size(eksibirler):], color=\"green\", label=\"1' ler\", marker =\"o\")\n",
    "plt.legend(loc=1)\n",
    "plt.xlabel(\"r\")\n",
    "plt.ylabel(\"phi\")\n",
    "plt.title(\"Ayırıcı\")\n",
    "plt.show()"
   ]
  },
  {
   "cell_type": "code",
   "execution_count": null,
   "metadata": {},
   "outputs": [],
   "source": []
  }
 ],
 "metadata": {
  "kernelspec": {
   "display_name": "Python 3",
   "language": "python",
   "name": "python3"
  },
  "language_info": {
   "codemirror_mode": {
    "name": "ipython",
    "version": 3
   },
   "file_extension": ".py",
   "mimetype": "text/x-python",
   "name": "python",
   "nbconvert_exporter": "python",
   "pygments_lexer": "ipython3",
   "version": "3.9.12"
  }
 },
 "nbformat": 4,
 "nbformat_minor": 2
}
